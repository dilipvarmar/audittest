{
 "cells": [
  {
   "cell_type": "code",
   "execution_count": null,
   "metadata": {},
   "outputs": [],
   "source": [
    "# asa_audit.ipynb\n",
    "import re\n",
    "from pathlib import Path\n",
    "\n",
    "# === Config ===\n",
    "CONFIG_FILE = \"sample_config.txt\"\n",
    "\n",
    "# === Sample Rules ===\n",
    "RULES = [\n",
    "    {\n",
    "        \"name\": \"Permit Any-Any ACL\",\n",
    "        \"pattern\": r\"access-list .* permit ip any4 any4\",\n",
    "        \"severity\": \"High\",\n",
    "        \"message\": \"Unrestricted IP access found. Replace 'any4 any4' with specific subnets.\"\n",
    "    },\n",
    "    # Add other rules here...\n",
    "]\n",
    "\n",
    "def load_config(path):\n",
    "    return Path(path).read_text()\n",
    "\n",
    "def audit_config(config_text):\n",
    "    findings = []\n",
    "    for rule in RULES:\n",
    "        matches = re.findall(rule[\"pattern\"], config_text)\n",
    "        if matches:\n",
    "            findings.append({\n",
    "                \"rule\": rule[\"name\"],\n",
    "                \"severity\": rule[\"severity\"],\n",
    "                \"message\": rule[\"message\"],\n",
    "                \"matches\": matches\n",
    "            })\n",
    "    return findings\n",
    "\n",
    "def print_report(findings):\n",
    "    if not findings:\n",
    "        print(\"✅ No critical issues found.\")\n",
    "        return\n",
    "    print(\"\\n🔍 Security Audit Report:\\n\")\n",
    "    for finding in findings:\n",
    "        print(f\"🚨 {finding['rule']} ({finding['severity']})\")\n",
    "        print(f\"    {finding['message']}\")\n",
    "        for m in finding['matches']:\n",
    "            print(f\"    ↳ {m}\")\n",
    "        print()\n",
    "\n",
    "# Run it\n",
    "config = load_config(CONFIG_FILE)\n",
    "results = audit_config(config)\n",
    "print_report(results)\n"
   ]
  }
 ],
 "metadata": {
  "kernelspec": {
   "display_name": "Python 3",
   "language": "python",
   "name": "python3"
  },
  "language_info": {
   "name": "python",
   "version": "3.10"
  }
 },
 "nbformat": 4,
 "nbformat_minor": 2
}
